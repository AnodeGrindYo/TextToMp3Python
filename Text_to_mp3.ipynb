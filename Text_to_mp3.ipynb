{
  "nbformat": 4,
  "nbformat_minor": 0,
  "metadata": {
    "colab": {
      "provenance": []
    },
    "kernelspec": {
      "name": "python3",
      "display_name": "Python 3"
    },
    "language_info": {
      "name": "python"
    }
  },
  "cells": [
    {
      "cell_type": "code",
      "source": [
        "!pip install gTTS"
      ],
      "metadata": {
        "colab": {
          "base_uri": "https://localhost:8080/"
        },
        "id": "xutAeHR2WElY",
        "outputId": "ea84e756-1377-46ab-ab57-0f43d7d38222"
      },
      "execution_count": 1,
      "outputs": [
        {
          "output_type": "stream",
          "name": "stdout",
          "text": [
            "Looking in indexes: https://pypi.org/simple, https://us-python.pkg.dev/colab-wheels/public/simple/\n",
            "Collecting gTTS\n",
            "  Downloading gTTS-2.3.1-py3-none-any.whl (28 kB)\n",
            "Requirement already satisfied: requests<3,>=2.27 in /usr/local/lib/python3.9/dist-packages (from gTTS) (2.27.1)\n",
            "Requirement already satisfied: click<8.2,>=7.1 in /usr/local/lib/python3.9/dist-packages (from gTTS) (8.1.3)\n",
            "Requirement already satisfied: urllib3<1.27,>=1.21.1 in /usr/local/lib/python3.9/dist-packages (from requests<3,>=2.27->gTTS) (1.26.15)\n",
            "Requirement already satisfied: certifi>=2017.4.17 in /usr/local/lib/python3.9/dist-packages (from requests<3,>=2.27->gTTS) (2022.12.7)\n",
            "Requirement already satisfied: idna<4,>=2.5 in /usr/local/lib/python3.9/dist-packages (from requests<3,>=2.27->gTTS) (3.4)\n",
            "Requirement already satisfied: charset-normalizer~=2.0.0 in /usr/local/lib/python3.9/dist-packages (from requests<3,>=2.27->gTTS) (2.0.12)\n",
            "Installing collected packages: gTTS\n",
            "Successfully installed gTTS-2.3.1\n"
          ]
        }
      ]
    },
    {
      "cell_type": "code",
      "source": [
        "from gtts import gTTS\n",
        "from IPython.display import Audio\n",
        "from google.colab import files\n",
        "\n",
        "# Saisir le texte à synthétiser\n",
        "text = input(\"Write your text : \")\n",
        "\n",
        "# Choisir la langue\n",
        "language = 'en'\n",
        "\n",
        "# Créer l'objet gTTS avec le texte et la langue\n",
        "tts = gTTS(text=text, lang=language)\n",
        "\n",
        "# Sauvegarder la sortie audio au format MP3\n",
        "tts.save('output.mp3')\n",
        "\n",
        "# Télécharger le fichier MP3\n",
        "files.download('output.mp3')\n",
        "\n",
        "# Jouer l'audio directement dans le notebook\n",
        "Audio('output.mp3', autoplay=True)"
      ],
      "metadata": {
        "colab": {
          "base_uri": "https://localhost:8080/",
          "height": 92
        },
        "id": "9lVO-YZDWIIf",
        "outputId": "0bcbc066-984b-4b45-9c6d-db000142d055"
      },
      "execution_count": 2,
      "outputs": [
        {
          "name": "stdout",
          "output_type": "stream",
          "text": [
            "Write your text : This is just an example\n"
          ]
        },
        {
          "output_type": "display_data",
          "data": {
            "text/plain": [
              "<IPython.core.display.Javascript object>"
            ],
            "application/javascript": [
              "\n",
              "    async function download(id, filename, size) {\n",
              "      if (!google.colab.kernel.accessAllowed) {\n",
              "        return;\n",
              "      }\n",
              "      const div = document.createElement('div');\n",
              "      const label = document.createElement('label');\n",
              "      label.textContent = `Downloading \"${filename}\": `;\n",
              "      div.appendChild(label);\n",
              "      const progress = document.createElement('progress');\n",
              "      progress.max = size;\n",
              "      div.appendChild(progress);\n",
              "      document.body.appendChild(div);\n",
              "\n",
              "      const buffers = [];\n",
              "      let downloaded = 0;\n",
              "\n",
              "      const channel = await google.colab.kernel.comms.open(id);\n",
              "      // Send a message to notify the kernel that we're ready.\n",
              "      channel.send({})\n",
              "\n",
              "      for await (const message of channel.messages) {\n",
              "        // Send a message to notify the kernel that we're ready.\n",
              "        channel.send({})\n",
              "        if (message.buffers) {\n",
              "          for (const buffer of message.buffers) {\n",
              "            buffers.push(buffer);\n",
              "            downloaded += buffer.byteLength;\n",
              "            progress.value = downloaded;\n",
              "          }\n",
              "        }\n",
              "      }\n",
              "      const blob = new Blob(buffers, {type: 'application/binary'});\n",
              "      const a = document.createElement('a');\n",
              "      a.href = window.URL.createObjectURL(blob);\n",
              "      a.download = filename;\n",
              "      div.appendChild(a);\n",
              "      a.click();\n",
              "      div.remove();\n",
              "    }\n",
              "  "
            ]
          },
          "metadata": {}
        },
        {
          "output_type": "display_data",
          "data": {
            "text/plain": [
              "<IPython.core.display.Javascript object>"
            ],
            "application/javascript": [
              "download(\"download_b873f577-ae5f-4d79-8d18-5e6f6a612b42\", \"output.mp3\", 7776)"
            ]
          },
          "metadata": {}
        },
        {
          "output_type": "execute_result",
          "data": {
            "text/plain": [
              "<IPython.lib.display.Audio object>"
            ],
            "text/html": [
              "\n",
              "                <audio  controls=\"controls\" autoplay=\"autoplay\">\n",
              "                    <source src=\"data:audio/mpeg;base64,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\" type=\"audio/mpeg\" />\n",
              "                    Your browser does not support the audio element.\n",
              "                </audio>\n",
              "              "
            ]
          },
          "metadata": {},
          "execution_count": 2
        }
      ]
    },
    {
      "cell_type": "code",
      "source": [],
      "metadata": {
        "id": "vHKS4NtoZogH"
      },
      "execution_count": null,
      "outputs": []
    }
  ]
}